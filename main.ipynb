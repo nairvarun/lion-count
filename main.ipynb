{
 "cells": [
  {
   "cell_type": "code",
   "execution_count": 1,
   "metadata": {},
   "outputs": [],
   "source": [
    "import pandas as pd"
   ]
  },
  {
   "cell_type": "code",
   "execution_count": 6,
   "metadata": {},
   "outputs": [],
   "source": [
    "df = pd.read_csv('vit-all.csv')"
   ]
  },
  {
   "cell_type": "code",
   "execution_count": 7,
   "metadata": {},
   "outputs": [
    {
     "data": {
      "text/html": [
       "<div>\n",
       "<style scoped>\n",
       "    .dataframe tbody tr th:only-of-type {\n",
       "        vertical-align: middle;\n",
       "    }\n",
       "\n",
       "    .dataframe tbody tr th {\n",
       "        vertical-align: top;\n",
       "    }\n",
       "\n",
       "    .dataframe thead th {\n",
       "        text-align: right;\n",
       "    }\n",
       "</style>\n",
       "<table border=\"1\" class=\"dataframe\">\n",
       "  <thead>\n",
       "    <tr style=\"text-align: right;\">\n",
       "      <th></th>\n",
       "      <th>RegNumber</th>\n",
       "      <th>Name</th>\n",
       "      <th>Campus</th>\n",
       "    </tr>\n",
       "  </thead>\n",
       "  <tbody>\n",
       "    <tr>\n",
       "      <th>0</th>\n",
       "      <td>21BSA10169</td>\n",
       "      <td>KSHITISH SHARMA</td>\n",
       "      <td>Bhopal</td>\n",
       "    </tr>\n",
       "    <tr>\n",
       "      <th>1</th>\n",
       "      <td>21BSA10168</td>\n",
       "      <td>ASTHA TRIPATHI</td>\n",
       "      <td>Bhopal</td>\n",
       "    </tr>\n",
       "    <tr>\n",
       "      <th>2</th>\n",
       "      <td>21BSA10167</td>\n",
       "      <td>UTKARSH JAIN</td>\n",
       "      <td>Bhopal</td>\n",
       "    </tr>\n",
       "    <tr>\n",
       "      <th>3</th>\n",
       "      <td>21BSA10166</td>\n",
       "      <td>ABHINAV TIWARI</td>\n",
       "      <td>Bhopal</td>\n",
       "    </tr>\n",
       "    <tr>\n",
       "      <th>4</th>\n",
       "      <td>21BSA10165</td>\n",
       "      <td>PRIYA JHA</td>\n",
       "      <td>Bhopal</td>\n",
       "    </tr>\n",
       "    <tr>\n",
       "      <th>...</th>\n",
       "      <td>...</td>\n",
       "      <td>...</td>\n",
       "      <td>...</td>\n",
       "    </tr>\n",
       "    <tr>\n",
       "      <th>14838</th>\n",
       "      <td>21BAC10014</td>\n",
       "      <td>Vivaan mannur</td>\n",
       "      <td>Bhopal</td>\n",
       "    </tr>\n",
       "    <tr>\n",
       "      <th>14839</th>\n",
       "      <td>21BAC10011</td>\n",
       "      <td>ANAGHA CHALLA</td>\n",
       "      <td>Bhopal</td>\n",
       "    </tr>\n",
       "    <tr>\n",
       "      <th>14840</th>\n",
       "      <td>21BAC10010</td>\n",
       "      <td>RAMJI CHAURASIYA</td>\n",
       "      <td>Bhopal</td>\n",
       "    </tr>\n",
       "    <tr>\n",
       "      <th>14841</th>\n",
       "      <td>21BAC10008</td>\n",
       "      <td>BHAMBHANI HARSHITA</td>\n",
       "      <td>Bhopal</td>\n",
       "    </tr>\n",
       "    <tr>\n",
       "      <th>14842</th>\n",
       "      <td>21BAC10005</td>\n",
       "      <td>ASHUTOSH KUMAR SRIVASTAVA</td>\n",
       "      <td>Bhopal</td>\n",
       "    </tr>\n",
       "  </tbody>\n",
       "</table>\n",
       "<p>14843 rows × 3 columns</p>\n",
       "</div>"
      ],
      "text/plain": [
       "        RegNumber                       Name  Campus\n",
       "0      21BSA10169            KSHITISH SHARMA  Bhopal\n",
       "1      21BSA10168             ASTHA TRIPATHI  Bhopal\n",
       "2      21BSA10167               UTKARSH JAIN  Bhopal\n",
       "3      21BSA10166             ABHINAV TIWARI  Bhopal\n",
       "4      21BSA10165                  PRIYA JHA  Bhopal\n",
       "...           ...                        ...     ...\n",
       "14838  21BAC10014              Vivaan mannur  Bhopal\n",
       "14839  21BAC10011              ANAGHA CHALLA  Bhopal\n",
       "14840  21BAC10010           RAMJI CHAURASIYA  Bhopal\n",
       "14841  21BAC10008        BHAMBHANI HARSHITA   Bhopal\n",
       "14842  21BAC10005  ASHUTOSH KUMAR SRIVASTAVA  Bhopal\n",
       "\n",
       "[14843 rows x 3 columns]"
      ]
     },
     "execution_count": 7,
     "metadata": {},
     "output_type": "execute_result"
    }
   ],
   "source": [
    "df"
   ]
  },
  {
   "cell_type": "code",
   "execution_count": 32,
   "metadata": {},
   "outputs": [],
   "source": [
    "vellore = df.loc[df['Campus'] == 'Vellore'].reset_index(drop=True)\n",
    "chennai = df.loc[df['Campus'] == 'Chennai'].reset_index(drop=True)\n",
    "bhopal = df.loc[df['Campus'] == 'Bhopal'].reset_index(drop=True)\n",
    "amravati = df.loc[df['Campus'] == 'Amaravati'].reset_index(drop=True)"
   ]
  },
  {
   "cell_type": "code",
   "execution_count": 43,
   "metadata": {},
   "outputs": [
    {
     "data": {
      "text/plain": [
       "0        21BSA10169\n",
       "1        21BSA10168\n",
       "2        21BSA10167\n",
       "3        21BSA10166\n",
       "4        21BSA10165\n",
       "            ...    \n",
       "14838    21BAC10014\n",
       "14839    21BAC10011\n",
       "14840    21BAC10010\n",
       "14841    21BAC10008\n",
       "14842    21BAC10005\n",
       "Name: RegNumber, Length: 14843, dtype: object"
      ]
     },
     "execution_count": 43,
     "metadata": {},
     "output_type": "execute_result"
    }
   ],
   "source": [
    "df['RegNumber']"
   ]
  },
  {
   "cell_type": "code",
   "execution_count": null,
   "metadata": {},
   "outputs": [],
   "source": [
    "# 14842\n",
    "# 14843\n"
   ]
  },
  {
   "cell_type": "code",
   "execution_count": null,
   "metadata": {},
   "outputs": [],
   "source": []
  }
 ],
 "metadata": {
  "kernelspec": {
   "display_name": ".venv",
   "language": "python",
   "name": "python3"
  },
  "language_info": {
   "codemirror_mode": {
    "name": "ipython",
    "version": 3
   },
   "file_extension": ".py",
   "mimetype": "text/x-python",
   "name": "python",
   "nbconvert_exporter": "python",
   "pygments_lexer": "ipython3",
   "version": "3.12.4"
  }
 },
 "nbformat": 4,
 "nbformat_minor": 2
}
